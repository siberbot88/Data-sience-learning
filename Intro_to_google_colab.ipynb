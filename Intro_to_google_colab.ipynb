{
  "nbformat": 4,
  "nbformat_minor": 0,
  "metadata": {
    "colab": {
      "provenance": [],
      "authorship_tag": "ABX9TyPf8+8wjLNev5ztRxCbdbYF",
      "include_colab_link": true
    },
    "kernelspec": {
      "name": "python3",
      "display_name": "Python 3"
    },
    "language_info": {
      "name": "python"
    }
  },
  "cells": [
    {
      "cell_type": "markdown",
      "metadata": {
        "id": "view-in-github",
        "colab_type": "text"
      },
      "source": [
        "<a href=\"https://colab.research.google.com/github/siberbot88/Data-sience-learning/blob/main/Intro_to_google_colab.ipynb\" target=\"_parent\"><img src=\"https://colab.research.google.com/assets/colab-badge.svg\" alt=\"Open In Colab\"/></a>"
      ]
    },
    {
      "cell_type": "markdown",
      "source": [
        "#**Introduction google Colab**"
      ],
      "metadata": {
        "id": "hB3YwTlvSxKE"
      }
    },
    {
      "cell_type": "markdown",
      "source": [
        "\n",
        "*   ctrl + enter = run\n",
        "*   shift + enter = run + jump to next cell\n",
        "\n",
        "*   alt + enter = insert a new code\n",
        "*   List item"
      ],
      "metadata": {
        "id": "FZuIO73rS5Mj"
      }
    },
    {
      "cell_type": "code",
      "execution_count": 3,
      "metadata": {
        "colab": {
          "base_uri": "https://localhost:8080/"
        },
        "id": "BvjacxI4Oz5_",
        "outputId": "16575281-acc4-452d-97d7-bf2870d3b079"
      },
      "outputs": [
        {
          "output_type": "stream",
          "name": "stdout",
          "text": [
            "10\n"
          ]
        }
      ],
      "source": [
        "a = 10\n",
        "print(a)"
      ]
    },
    {
      "cell_type": "code",
      "source": [
        "print(b)"
      ],
      "metadata": {
        "colab": {
          "base_uri": "https://localhost:8080/"
        },
        "id": "3PcbTekARsbu",
        "outputId": "128819d6-6a00-4549-f780-2d5d3caf2fac"
      },
      "execution_count": 4,
      "outputs": [
        {
          "output_type": "stream",
          "name": "stdout",
          "text": [
            "15\n"
          ]
        }
      ]
    },
    {
      "cell_type": "code",
      "source": [
        "b = 15\n",
        "b"
      ],
      "metadata": {
        "colab": {
          "base_uri": "https://localhost:8080/"
        },
        "id": "mfUTqtEeQVip",
        "outputId": "b7e66531-c946-46fc-b35d-c81638ae5149"
      },
      "execution_count": 2,
      "outputs": [
        {
          "output_type": "execute_result",
          "data": {
            "text/plain": [
              "15"
            ]
          },
          "metadata": {},
          "execution_count": 2
        }
      ]
    },
    {
      "cell_type": "markdown",
      "source": [
        "#**Shell Command**"
      ],
      "metadata": {
        "id": "brXNW37dTCCw"
      }
    },
    {
      "cell_type": "markdown",
      "source": [
        "1. melihat direktori utama"
      ],
      "metadata": {
        "id": "6PYhKvuBTTNp"
      }
    },
    {
      "cell_type": "code",
      "source": [
        "!ls"
      ],
      "metadata": {
        "colab": {
          "base_uri": "https://localhost:8080/"
        },
        "id": "MiDtPmh4TK3r",
        "outputId": "38fbcd5c-38b6-436e-da06-12dac38cb0c4"
      },
      "execution_count": 6,
      "outputs": [
        {
          "output_type": "stream",
          "name": "stdout",
          "text": [
            "sample_data\n"
          ]
        }
      ]
    },
    {
      "cell_type": "markdown",
      "source": [
        "2. melihat direktori file disimpan dalam folder"
      ],
      "metadata": {
        "id": "zbhC3stWTv14"
      }
    },
    {
      "cell_type": "code",
      "source": [
        "!pwd"
      ],
      "metadata": {
        "colab": {
          "base_uri": "https://localhost:8080/"
        },
        "id": "FvWly_ocTdVX",
        "outputId": "88c60521-d94c-4fe3-89c2-891652465415"
      },
      "execution_count": 7,
      "outputs": [
        {
          "output_type": "stream",
          "name": "stdout",
          "text": [
            "/content\n"
          ]
        }
      ]
    },
    {
      "cell_type": "markdown",
      "source": [
        "#**Magics**"
      ],
      "metadata": {
        "id": "hx3buMllUCI-"
      }
    },
    {
      "cell_type": "markdown",
      "source": [
        "Magics itu adalah cara mengubah bagaimana suatu cell itu bekerja.\n",
        "keyword sintax magics adalah (%)"
      ],
      "metadata": {
        "id": "dRQBfOOkUF6Y"
      }
    },
    {
      "cell_type": "markdown",
      "source": [
        "1. cara melihat kecepatan sebuah code di eksekusi"
      ],
      "metadata": {
        "id": "FCsuFHJNUqPO"
      }
    },
    {
      "cell_type": "code",
      "source": [
        "import numpy as np\n",
        "\n",
        "%timeit np.linalg.eigvals(np.random.rand(100,100))"
      ],
      "metadata": {
        "colab": {
          "base_uri": "https://localhost:8080/"
        },
        "id": "8F0t00p4UO6_",
        "outputId": "1d2877b6-b3b1-417c-ebd9-099cac034738"
      },
      "execution_count": 8,
      "outputs": [
        {
          "output_type": "stream",
          "name": "stdout",
          "text": [
            "12.2 ms ± 3.57 ms per loop (mean ± std. dev. of 7 runs, 100 loops each)\n"
          ]
        }
      ]
    },
    {
      "cell_type": "markdown",
      "source": [
        "2. Cara membuat magics sintax HTML"
      ],
      "metadata": {
        "id": "IsWRIyTqVRTt"
      }
    },
    {
      "cell_type": "code",
      "source": [
        "%%HTML\n",
        "<marquee style='width:30%; color: green;'>Hello world!</marquee>"
      ],
      "metadata": {
        "colab": {
          "base_uri": "https://localhost:8080/",
          "height": 35
        },
        "id": "9HAe2BieUu3R",
        "outputId": "a986a553-4634-45c9-f596-8320b35d8882"
      },
      "execution_count": 10,
      "outputs": [
        {
          "output_type": "display_data",
          "data": {
            "text/plain": [
              "<IPython.core.display.HTML object>"
            ],
            "text/html": [
              "<marquee style='width:30%; color: green;'>Hello world!</marquee>\n"
            ]
          },
          "metadata": {}
        }
      ]
    },
    {
      "cell_type": "markdown",
      "source": [
        "#**Documentation**"
      ],
      "metadata": {
        "id": "Lq1q_pgeVll-"
      }
    },
    {
      "cell_type": "markdown",
      "source": [
        "1. Cara melihat dokumentasi module"
      ],
      "metadata": {
        "id": "hFJ7WEjAVtBy"
      }
    },
    {
      "cell_type": "code",
      "source": [
        "np.random?"
      ],
      "metadata": {
        "id": "vjp3WmTuVsLT"
      },
      "execution_count": 11,
      "outputs": []
    },
    {
      "cell_type": "markdown",
      "source": [
        "#**Markdown**"
      ],
      "metadata": {
        "id": "7kepCFA6WzSj"
      }
    },
    {
      "cell_type": "markdown",
      "source": [
        "**python** *programming*"
      ],
      "metadata": {
        "id": "ZnkK8i7RW5EU"
      }
    },
    {
      "cell_type": "markdown",
      "source": [
        "\n",
        "\n",
        "\n",
        "[**My github**](https://github.com/siberbot88/Data-sience-learning.git)\n",
        "\n",
        "\n"
      ],
      "metadata": {
        "id": "ZMhGECVvXSzQ"
      }
    },
    {
      "cell_type": "markdown",
      "source": [
        "**ordered List**\n",
        "1. indonesia\n",
        "1. belanda\n",
        "1. portugis\n",
        "1. jepang\n",
        "\n",
        "**Unordered List**\n",
        "* Indonesia\n",
        "* Belanda\n",
        "* Portugis\n",
        "* Jepang\n",
        "\n",
        "**Nested List**\n",
        "* Belanda\n",
        "  1. Belanda 1\n",
        "  1. Belanda 2"
      ],
      "metadata": {
        "id": "bdykqvGVXx_k"
      }
    },
    {
      "cell_type": "markdown",
      "source": [
        "**LaTex Syntax**\n",
        "Use mathjax rendering\n",
        "\n",
        "$\\sqrt{9}+1$\n",
        "$\\sqrt{9}+1^3$"
      ],
      "metadata": {
        "id": "UR_98wanZGoS"
      }
    },
    {
      "cell_type": "markdown",
      "source": [
        "**Tabel**\n",
        "\n",
        "Nama makanan | harga\n",
        "--- | ---\n",
        "nasi goreng | 15000\n",
        "Es teh manis | 3500"
      ],
      "metadata": {
        "id": "K7s-GbJpZ9mD"
      }
    }
  ]
}