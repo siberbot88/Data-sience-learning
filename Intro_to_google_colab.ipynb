{
  "nbformat": 4,
  "nbformat_minor": 0,
  "metadata": {
    "colab": {
      "provenance": [],
      "authorship_tag": "ABX9TyOtRhhm+8OAn3b/CFPb2d3I",
      "include_colab_link": true
    },
    "kernelspec": {
      "name": "python3",
      "display_name": "Python 3"
    },
    "language_info": {
      "name": "python"
    }
  },
  "cells": [
    {
      "cell_type": "markdown",
      "metadata": {
        "id": "view-in-github",
        "colab_type": "text"
      },
      "source": [
        "<a href=\"https://colab.research.google.com/github/siberbot88/Data-sience-learning/blob/main/Intro_to_google_colab.ipynb\" target=\"_parent\"><img src=\"https://colab.research.google.com/assets/colab-badge.svg\" alt=\"Open In Colab\"/></a>"
      ]
    },
    {
      "cell_type": "markdown",
      "source": [
        "#**Introduction google Colab**"
      ],
      "metadata": {
        "id": "hB3YwTlvSxKE"
      }
    },
    {
      "cell_type": "markdown",
      "source": [
        "\n",
        "*   ctrl + enter = run\n",
        "*   shift + enter = run + jump to next cell\n",
        "\n",
        "*   alt + enter = insert a new code\n",
        "*   List item"
      ],
      "metadata": {
        "id": "FZuIO73rS5Mj"
      }
    },
    {
      "cell_type": "code",
      "execution_count": null,
      "metadata": {
        "colab": {
          "base_uri": "https://localhost:8080/"
        },
        "id": "BvjacxI4Oz5_",
        "outputId": "16575281-acc4-452d-97d7-bf2870d3b079"
      },
      "outputs": [
        {
          "output_type": "stream",
          "name": "stdout",
          "text": [
            "10\n"
          ]
        }
      ],
      "source": [
        "a = 10\n",
        "print(a)"
      ]
    },
    {
      "cell_type": "code",
      "source": [
        "print(b)"
      ],
      "metadata": {
        "colab": {
          "base_uri": "https://localhost:8080/"
        },
        "id": "3PcbTekARsbu",
        "outputId": "128819d6-6a00-4549-f780-2d5d3caf2fac"
      },
      "execution_count": null,
      "outputs": [
        {
          "output_type": "stream",
          "name": "stdout",
          "text": [
            "15\n"
          ]
        }
      ]
    },
    {
      "cell_type": "code",
      "source": [
        "b = 15\n",
        "b"
      ],
      "metadata": {
        "colab": {
          "base_uri": "https://localhost:8080/"
        },
        "id": "mfUTqtEeQVip",
        "outputId": "b7e66531-c946-46fc-b35d-c81638ae5149"
      },
      "execution_count": null,
      "outputs": [
        {
          "output_type": "execute_result",
          "data": {
            "text/plain": [
              "15"
            ]
          },
          "metadata": {},
          "execution_count": 2
        }
      ]
    },
    {
      "cell_type": "markdown",
      "source": [
        "#**Shell Command**"
      ],
      "metadata": {
        "id": "brXNW37dTCCw"
      }
    },
    {
      "cell_type": "markdown",
      "source": [
        "1. melihat direktori utama"
      ],
      "metadata": {
        "id": "6PYhKvuBTTNp"
      }
    },
    {
      "cell_type": "code",
      "source": [
        "!ls"
      ],
      "metadata": {
        "colab": {
          "base_uri": "https://localhost:8080/"
        },
        "id": "MiDtPmh4TK3r",
        "outputId": "38fbcd5c-38b6-436e-da06-12dac38cb0c4"
      },
      "execution_count": null,
      "outputs": [
        {
          "output_type": "stream",
          "name": "stdout",
          "text": [
            "sample_data\n"
          ]
        }
      ]
    },
    {
      "cell_type": "markdown",
      "source": [
        "2. melihat direktori file disimpan dalam folder"
      ],
      "metadata": {
        "id": "zbhC3stWTv14"
      }
    },
    {
      "cell_type": "code",
      "source": [
        "!pwd"
      ],
      "metadata": {
        "colab": {
          "base_uri": "https://localhost:8080/"
        },
        "id": "FvWly_ocTdVX",
        "outputId": "88c60521-d94c-4fe3-89c2-891652465415"
      },
      "execution_count": null,
      "outputs": [
        {
          "output_type": "stream",
          "name": "stdout",
          "text": [
            "/content\n"
          ]
        }
      ]
    },
    {
      "cell_type": "markdown",
      "source": [
        "#**Magics**"
      ],
      "metadata": {
        "id": "hx3buMllUCI-"
      }
    },
    {
      "cell_type": "markdown",
      "source": [
        "Magics itu adalah cara mengubah bagaimana suatu cell itu bekerja.\n",
        "keyword sintax magics adalah (%)"
      ],
      "metadata": {
        "id": "dRQBfOOkUF6Y"
      }
    },
    {
      "cell_type": "markdown",
      "source": [
        "1. cara melihat kecepatan sebuah code di eksekusi"
      ],
      "metadata": {
        "id": "FCsuFHJNUqPO"
      }
    },
    {
      "cell_type": "code",
      "source": [
        "import numpy as np\n",
        "\n",
        "%timeit np.linalg.eigvals(np.random.rand(100,100))"
      ],
      "metadata": {
        "colab": {
          "base_uri": "https://localhost:8080/"
        },
        "id": "8F0t00p4UO6_",
        "outputId": "1d2877b6-b3b1-417c-ebd9-099cac034738"
      },
      "execution_count": null,
      "outputs": [
        {
          "output_type": "stream",
          "name": "stdout",
          "text": [
            "12.2 ms ± 3.57 ms per loop (mean ± std. dev. of 7 runs, 100 loops each)\n"
          ]
        }
      ]
    },
    {
      "cell_type": "markdown",
      "source": [
        "2. Cara membuat magics sintax HTML"
      ],
      "metadata": {
        "id": "IsWRIyTqVRTt"
      }
    },
    {
      "cell_type": "code",
      "source": [
        "%%HTML\n",
        "<marquee style='width:30%; color: green;'>Hello world!</marquee>"
      ],
      "metadata": {
        "colab": {
          "base_uri": "https://localhost:8080/",
          "height": 35
        },
        "id": "9HAe2BieUu3R",
        "outputId": "a986a553-4634-45c9-f596-8320b35d8882"
      },
      "execution_count": null,
      "outputs": [
        {
          "output_type": "display_data",
          "data": {
            "text/plain": [
              "<IPython.core.display.HTML object>"
            ],
            "text/html": [
              "<marquee style='width:30%; color: green;'>Hello world!</marquee>\n"
            ]
          },
          "metadata": {}
        }
      ]
    },
    {
      "cell_type": "markdown",
      "source": [
        "#**Documentation**"
      ],
      "metadata": {
        "id": "Lq1q_pgeVll-"
      }
    },
    {
      "cell_type": "markdown",
      "source": [
        "1. Cara melihat dokumentasi module"
      ],
      "metadata": {
        "id": "hFJ7WEjAVtBy"
      }
    },
    {
      "cell_type": "code",
      "source": [
        "np.random?"
      ],
      "metadata": {
        "id": "vjp3WmTuVsLT"
      },
      "execution_count": null,
      "outputs": []
    },
    {
      "cell_type": "markdown",
      "source": [
        "#**Markdown**"
      ],
      "metadata": {
        "id": "7kepCFA6WzSj"
      }
    },
    {
      "cell_type": "markdown",
      "source": [
        "**python** *programming*"
      ],
      "metadata": {
        "id": "ZnkK8i7RW5EU"
      }
    },
    {
      "cell_type": "markdown",
      "source": [
        "\n",
        "\n",
        "\n",
        "[**My github**](https://github.com/siberbot88/Data-sience-learning.git)\n",
        "\n",
        "\n"
      ],
      "metadata": {
        "id": "ZMhGECVvXSzQ"
      }
    },
    {
      "cell_type": "markdown",
      "source": [
        "**ordered List**\n",
        "1. indonesia\n",
        "1. belanda\n",
        "1. portugis\n",
        "1. jepang\n",
        "\n",
        "**Unordered List**\n",
        "* Indonesia\n",
        "* Belanda\n",
        "* Portugis\n",
        "* Jepang\n",
        "\n",
        "**Nested List**\n",
        "* Belanda\n",
        "  1. Belanda 1\n",
        "  1. Belanda 2"
      ],
      "metadata": {
        "id": "bdykqvGVXx_k"
      }
    },
    {
      "cell_type": "markdown",
      "source": [
        "**LaTex Syntax**\n",
        "Use mathjax rendering\n",
        "\n",
        "$\\sqrt{9}+1$\n",
        "$\\sqrt{9}+1^3$"
      ],
      "metadata": {
        "id": "UR_98wanZGoS"
      }
    },
    {
      "cell_type": "markdown",
      "source": [
        "**Tabel**\n",
        "\n",
        "Nama makanan | harga\n",
        "--- | ---\n",
        "nasi goreng | 15000\n",
        "Es teh manis | 3500"
      ],
      "metadata": {
        "id": "K7s-GbJpZ9mD"
      }
    },
    {
      "cell_type": "markdown",
      "source": [
        "#**Numpy**\n"
      ],
      "metadata": {
        "id": "bZtvsuEGbFrT"
      }
    },
    {
      "cell_type": "code",
      "source": [
        "import numpy as np\n",
        "\n"
      ],
      "metadata": {
        "id": "Xzj0Zm_IbK40"
      },
      "execution_count": 5,
      "outputs": []
    },
    {
      "cell_type": "markdown",
      "source": [
        "Array dengan rank 1 dan 3 elemen\n"
      ],
      "metadata": {
        "id": "4PcxvsGWbnSM"
      }
    },
    {
      "cell_type": "code",
      "source": [
        "[1, 2, 3]"
      ],
      "metadata": {
        "colab": {
          "base_uri": "https://localhost:8080/"
        },
        "id": "Elf7aml_bsbC",
        "outputId": "1ed83eeb-3352-406f-a898-4167c1bc82e9"
      },
      "execution_count": null,
      "outputs": [
        {
          "output_type": "execute_result",
          "data": {
            "text/plain": [
              "[1, 2, 3]"
            ]
          },
          "metadata": {},
          "execution_count": 13
        }
      ]
    },
    {
      "cell_type": "markdown",
      "source": [
        "Array dengan rank 2 dan 3 elemen"
      ],
      "metadata": {
        "id": "-WT0CMsAb4L-"
      }
    },
    {
      "cell_type": "code",
      "source": [
        "[[1, 2, 3 , 4], [5, 6, 7, 8]]"
      ],
      "metadata": {
        "colab": {
          "base_uri": "https://localhost:8080/"
        },
        "id": "wBwSEbGvb-RR",
        "outputId": "e454bc99-4005-40ef-e6f2-ced50c9246b7"
      },
      "execution_count": null,
      "outputs": [
        {
          "output_type": "execute_result",
          "data": {
            "text/plain": [
              "[[1, 2, 3, 4], [5, 6, 7, 8]]"
            ]
          },
          "metadata": {},
          "execution_count": 14
        }
      ]
    },
    {
      "cell_type": "code",
      "source": [
        "a = np.array([1, 2, 3])\n",
        "b = np.array([(1, 2, 3), (4, 5, 6)])\n",
        "\n",
        "print('ini adalah array 1 dimensi \\n',a)\n",
        "print('ini adalah array 2 dimensi \\n',b)"
      ],
      "metadata": {
        "colab": {
          "base_uri": "https://localhost:8080/"
        },
        "id": "AzBxFrgpcL-6",
        "outputId": "5f2b437e-51cb-49c5-cca4-c49e768a024a"
      },
      "execution_count": 6,
      "outputs": [
        {
          "output_type": "stream",
          "name": "stdout",
          "text": [
            "ini adalah array 1 dimensi \n",
            " [1 2 3]\n",
            "ini adalah array 2 dimensi \n",
            " [[1 2 3]\n",
            " [4 5 6]]\n"
          ]
        }
      ]
    },
    {
      "cell_type": "markdown",
      "source": [
        "**ndArray**: nama class untuk sebuah numpy array."
      ],
      "metadata": {
        "id": "rSqJsKUCdKh1"
      }
    },
    {
      "cell_type": "code",
      "source": [
        "a = np.array([1, 2, 3])\n",
        "\n",
        "print(a)"
      ],
      "metadata": {
        "colab": {
          "base_uri": "https://localhost:8080/"
        },
        "id": "Zr6zD1TidURk",
        "outputId": "613a8a1f-1168-4262-f8d3-07a827d88016"
      },
      "execution_count": null,
      "outputs": [
        {
          "output_type": "stream",
          "name": "stdout",
          "text": [
            "[1 2 3]\n"
          ]
        }
      ]
    },
    {
      "cell_type": "code",
      "source": [
        "\n",
        "\n"
      ],
      "metadata": {
        "id": "WTES3PwhxCAE"
      },
      "execution_count": 1,
      "outputs": []
    },
    {
      "cell_type": "markdown",
      "source": [
        "#**Properties**\n",
        "* *ndarray.ndim*: mengembalikan dimensi dari sebuah numpy array.\n",
        "* *ndarray.shape*: mereturn jumlah baris dan colum dari sebuah numpy array.\n",
        "* *ndarray.size*: jumlah elemen didalam numpuy array.\n",
        "* *ndarray.dtype*: mencari tipe data dari elemen yang ada di numpy array.\n",
        "* *ndarray.itemsize*: ukuran elemen (bytes) yang ada di numpy array.\n",
        "* *ndarray.data*: sebuah buffer untuk menyimpan elemen-elemen di dalam numpy array.\n"
      ],
      "metadata": {
        "id": "CBtxPkK2aocu"
      }
    },
    {
      "cell_type": "code",
      "source": [
        "a = np.array([1, 2, 3])\n",
        "b = np.array([(1, 2, 3), (4, 5, 6)])\n",
        "\n",
        "print(a.ndim)\n",
        "print(a.shape)\n",
        "print(a.size)\n",
        "print(a.dtype)\n",
        "print(a.itemsize)"
      ],
      "metadata": {
        "colab": {
          "base_uri": "https://localhost:8080/"
        },
        "id": "JhV6wj9ObvOE",
        "outputId": "f0f5ff41-770b-4429-ee78-580555768994"
      },
      "execution_count": 8,
      "outputs": [
        {
          "output_type": "stream",
          "name": "stdout",
          "text": [
            "1\n",
            "(3,)\n",
            "3\n",
            "int64\n",
            "8\n"
          ]
        }
      ]
    },
    {
      "cell_type": "code",
      "source": [
        "print(b.ndim)\n",
        "print(b.shape)\n",
        "print(b.size)\n",
        "print(b.dtype)\n",
        "print(b.itemsize)"
      ],
      "metadata": {
        "colab": {
          "base_uri": "https://localhost:8080/"
        },
        "id": "5QBHTQRPc02O",
        "outputId": "d48ece42-8e89-4fd7-e087-d6ffd2c2e990"
      },
      "execution_count": 10,
      "outputs": [
        {
          "output_type": "stream",
          "name": "stdout",
          "text": [
            "2\n",
            "(2, 3)\n",
            "6\n",
            "int64\n",
            "8\n"
          ]
        }
      ]
    },
    {
      "cell_type": "code",
      "source": [],
      "metadata": {
        "id": "B62WH3KYdOZ7"
      },
      "execution_count": 10,
      "outputs": []
    },
    {
      "cell_type": "markdown",
      "source": [
        "#**Numpy Array**\n"
      ],
      "metadata": {
        "id": "gR4hVlwFdRcq"
      }
    },
    {
      "cell_type": "markdown",
      "source": [
        "* *np.zeros* : Isinya semua nol.\n",
        "* *np.ones* : Isinya semua 1.\n",
        "* *np.arange* : Bisa berikan scope dan panjang dari step.\n",
        "* *np.linspace* : Bisa berikan scope dan jumlah elemen yang diinginkan.\n",
        "* *np.random.random* : Memberikan angka acak."
      ],
      "metadata": {
        "id": "Sc2z58JudcO0"
      }
    },
    {
      "cell_type": "code",
      "source": [
        "np.zeros((3,3))"
      ],
      "metadata": {
        "colab": {
          "base_uri": "https://localhost:8080/"
        },
        "id": "HRq-jqTxeveQ",
        "outputId": "8a0de6fd-906d-4565-8653-91b2b8a6eacc"
      },
      "execution_count": 12,
      "outputs": [
        {
          "output_type": "execute_result",
          "data": {
            "text/plain": [
              "array([[0., 0., 0.],\n",
              "       [0., 0., 0.],\n",
              "       [0., 0., 0.]])"
            ]
          },
          "metadata": {},
          "execution_count": 12
        }
      ]
    },
    {
      "cell_type": "code",
      "source": [
        "np.ones((7,5))"
      ],
      "metadata": {
        "colab": {
          "base_uri": "https://localhost:8080/"
        },
        "id": "EXUisnZPfBvI",
        "outputId": "6fa67a29-91ee-462d-ff74-b4d07e9a89c0"
      },
      "execution_count": 14,
      "outputs": [
        {
          "output_type": "execute_result",
          "data": {
            "text/plain": [
              "array([[1., 1., 1., 1., 1.],\n",
              "       [1., 1., 1., 1., 1.],\n",
              "       [1., 1., 1., 1., 1.],\n",
              "       [1., 1., 1., 1., 1.],\n",
              "       [1., 1., 1., 1., 1.],\n",
              "       [1., 1., 1., 1., 1.],\n",
              "       [1., 1., 1., 1., 1.]])"
            ]
          },
          "metadata": {},
          "execution_count": 14
        }
      ]
    },
    {
      "cell_type": "code",
      "source": [
        "np.arange(1, 5, 0.07)"
      ],
      "metadata": {
        "colab": {
          "base_uri": "https://localhost:8080/"
        },
        "id": "AIFKGXlafGLw",
        "outputId": "0ee8da3a-84ad-467d-afc8-88fdc7ac92a7"
      },
      "execution_count": 19,
      "outputs": [
        {
          "output_type": "execute_result",
          "data": {
            "text/plain": [
              "array([1.  , 1.07, 1.14, 1.21, 1.28, 1.35, 1.42, 1.49, 1.56, 1.63, 1.7 ,\n",
              "       1.77, 1.84, 1.91, 1.98, 2.05, 2.12, 2.19, 2.26, 2.33, 2.4 , 2.47,\n",
              "       2.54, 2.61, 2.68, 2.75, 2.82, 2.89, 2.96, 3.03, 3.1 , 3.17, 3.24,\n",
              "       3.31, 3.38, 3.45, 3.52, 3.59, 3.66, 3.73, 3.8 , 3.87, 3.94, 4.01,\n",
              "       4.08, 4.15, 4.22, 4.29, 4.36, 4.43, 4.5 , 4.57, 4.64, 4.71, 4.78,\n",
              "       4.85, 4.92, 4.99])"
            ]
          },
          "metadata": {},
          "execution_count": 19
        }
      ]
    },
    {
      "cell_type": "code",
      "source": [
        "np.arange(1, 2, 0.11)"
      ],
      "metadata": {
        "colab": {
          "base_uri": "https://localhost:8080/"
        },
        "id": "wjkr-J-9fyRr",
        "outputId": "521434aa-5b77-4571-8991-0a93c0e12934"
      },
      "execution_count": 20,
      "outputs": [
        {
          "output_type": "execute_result",
          "data": {
            "text/plain": [
              "array([1.  , 1.11, 1.22, 1.33, 1.44, 1.55, 1.66, 1.77, 1.88, 1.99])"
            ]
          },
          "metadata": {},
          "execution_count": 20
        }
      ]
    },
    {
      "cell_type": "code",
      "source": [
        "np.linspace(1, 3, 10)"
      ],
      "metadata": {
        "colab": {
          "base_uri": "https://localhost:8080/"
        },
        "id": "L6Y_KdZGfzDg",
        "outputId": "65c72c17-b70a-4426-8f2b-01b7d1d89a5b"
      },
      "execution_count": 23,
      "outputs": [
        {
          "output_type": "execute_result",
          "data": {
            "text/plain": [
              "array([1.        , 1.22222222, 1.44444444, 1.66666667, 1.88888889,\n",
              "       2.11111111, 2.33333333, 2.55555556, 2.77777778, 3.        ])"
            ]
          },
          "metadata": {},
          "execution_count": 23
        }
      ]
    },
    {
      "cell_type": "code",
      "source": [
        "np.random.random((7, 2))"
      ],
      "metadata": {
        "colab": {
          "base_uri": "https://localhost:8080/"
        },
        "id": "U_bJcNH6gOvT",
        "outputId": "c90e37de-dcff-49f9-8cec-37c5795e9366"
      },
      "execution_count": 27,
      "outputs": [
        {
          "output_type": "execute_result",
          "data": {
            "text/plain": [
              "array([[0.43603354, 0.1899466 ],\n",
              "       [0.47467217, 0.0723298 ],\n",
              "       [0.13339958, 0.00856192],\n",
              "       [0.48549633, 0.45540569],\n",
              "       [0.186149  , 0.07306904],\n",
              "       [0.60368872, 0.80094797],\n",
              "       [0.7711405 , 0.99007551]])"
            ]
          },
          "metadata": {},
          "execution_count": 27
        }
      ]
    },
    {
      "cell_type": "code",
      "source": [
        "np.random.random((2, 3))"
      ],
      "metadata": {
        "colab": {
          "base_uri": "https://localhost:8080/"
        },
        "id": "Yat4t0vpgesY",
        "outputId": "984e8760-c77c-4754-8cfa-e412dc7d1e64"
      },
      "execution_count": 28,
      "outputs": [
        {
          "output_type": "execute_result",
          "data": {
            "text/plain": [
              "array([[0.77400612, 0.52913346, 0.43359935],\n",
              "       [0.98414308, 0.91970514, 0.19238499]])"
            ]
          },
          "metadata": {},
          "execution_count": 28
        }
      ]
    },
    {
      "cell_type": "code",
      "source": [],
      "metadata": {
        "id": "cvfITZUrgiEf"
      },
      "execution_count": null,
      "outputs": []
    },
    {
      "cell_type": "markdown",
      "source": [
        "#**Shape Operations**"
      ],
      "metadata": {
        "id": "8YpWttzWgjDz"
      }
    },
    {
      "cell_type": "markdown",
      "source": [
        "* *reshape* : mengubah dimensi/shape dari sebuah numpy array.\n",
        "* *vstack* : stack numpy arrays secara vertikal.\n",
        "* *hstack* : stack numpy arrays secara horizontal.\n",
        "* *vsplit* : split numpy array secara vertikal.\n",
        "* *hsplit* : split numpy array secara horizontal."
      ],
      "metadata": {
        "id": "Dn1p7DOTg0Ip"
      }
    },
    {
      "cell_type": "code",
      "source": [
        "a = np.array([(1, 2, 3), (4, 5, 6)])\n",
        "a"
      ],
      "metadata": {
        "colab": {
          "base_uri": "https://localhost:8080/"
        },
        "id": "QxWMyDTviWjy",
        "outputId": "2cddad86-6cc6-4bd5-b0f2-3fd336809b91"
      },
      "execution_count": 44,
      "outputs": [
        {
          "output_type": "execute_result",
          "data": {
            "text/plain": [
              "array([[1, 2, 3],\n",
              "       [4, 5, 6]])"
            ]
          },
          "metadata": {},
          "execution_count": 44
        }
      ]
    },
    {
      "cell_type": "code",
      "source": [
        "a = a.reshape(3, 2)\n",
        "a"
      ],
      "metadata": {
        "colab": {
          "base_uri": "https://localhost:8080/"
        },
        "id": "ZrpAMIYfi1cm",
        "outputId": "051c5f7e-b2ff-4dc2-a718-547795ef3ba8"
      },
      "execution_count": 35,
      "outputs": [
        {
          "output_type": "execute_result",
          "data": {
            "text/plain": [
              "array([[1, 2],\n",
              "       [3, 4],\n",
              "       [5, 6]])"
            ]
          },
          "metadata": {},
          "execution_count": 35
        }
      ]
    },
    {
      "cell_type": "code",
      "source": [
        "b = np.array([(7, 8,), (9, 10)])\n",
        "b"
      ],
      "metadata": {
        "colab": {
          "base_uri": "https://localhost:8080/"
        },
        "id": "C5m7U-P6i_XU",
        "outputId": "dbc35725-749e-4d67-a8e4-545604a643c1"
      },
      "execution_count": 38,
      "outputs": [
        {
          "output_type": "execute_result",
          "data": {
            "text/plain": [
              "array([[ 7,  8],\n",
              "       [ 9, 10]])"
            ]
          },
          "metadata": {},
          "execution_count": 38
        }
      ]
    },
    {
      "cell_type": "code",
      "source": [
        "np.vstack((a, b))"
      ],
      "metadata": {
        "colab": {
          "base_uri": "https://localhost:8080/"
        },
        "id": "TROoS_G3jjWQ",
        "outputId": "6a122b6d-dde6-4696-f13f-83c31671eff9"
      },
      "execution_count": 40,
      "outputs": [
        {
          "output_type": "execute_result",
          "data": {
            "text/plain": [
              "array([[ 1,  2],\n",
              "       [ 3,  4],\n",
              "       [ 5,  6],\n",
              "       [ 7,  8],\n",
              "       [ 9, 10]])"
            ]
          },
          "metadata": {},
          "execution_count": 40
        }
      ]
    },
    {
      "cell_type": "code",
      "source": [
        "c = np.array([(11, 12, 13), (14, 15, 16)])\n",
        "c\n"
      ],
      "metadata": {
        "colab": {
          "base_uri": "https://localhost:8080/"
        },
        "id": "JaSpDC4Yjnj5",
        "outputId": "be87d337-ff79-4615-aaab-1f87d2458155"
      },
      "execution_count": 45,
      "outputs": [
        {
          "output_type": "execute_result",
          "data": {
            "text/plain": [
              "array([[11, 12, 13],\n",
              "       [14, 15, 16]])"
            ]
          },
          "metadata": {},
          "execution_count": 45
        }
      ]
    },
    {
      "cell_type": "code",
      "source": [
        "d = np.hstack((a, c))\n",
        "d"
      ],
      "metadata": {
        "colab": {
          "base_uri": "https://localhost:8080/"
        },
        "id": "3vmopyZBkXsC",
        "outputId": "e87f3217-4121-41a7-a271-2923b9d037c6"
      },
      "execution_count": 48,
      "outputs": [
        {
          "output_type": "execute_result",
          "data": {
            "text/plain": [
              "array([[ 1,  2,  3, 11, 12, 13],\n",
              "       [ 4,  5,  6, 14, 15, 16]])"
            ]
          },
          "metadata": {},
          "execution_count": 48
        }
      ]
    },
    {
      "cell_type": "code",
      "source": [
        "np.vsplit(d, 2)"
      ],
      "metadata": {
        "colab": {
          "base_uri": "https://localhost:8080/"
        },
        "id": "hsm-ERjolH0-",
        "outputId": "0e20a5cf-078f-4ee5-af2e-96c4fe225d17"
      },
      "execution_count": 50,
      "outputs": [
        {
          "output_type": "execute_result",
          "data": {
            "text/plain": [
              "[array([[ 1,  2,  3, 11, 12, 13]]), array([[ 4,  5,  6, 14, 15, 16]])]"
            ]
          },
          "metadata": {},
          "execution_count": 50
        }
      ]
    },
    {
      "cell_type": "code",
      "source": [
        "np.hsplit(d, 3)"
      ],
      "metadata": {
        "colab": {
          "base_uri": "https://localhost:8080/"
        },
        "id": "vWcpI9B1lSzl",
        "outputId": "be071bd1-981f-4f62-a829-b1c090573273"
      },
      "execution_count": 52,
      "outputs": [
        {
          "output_type": "execute_result",
          "data": {
            "text/plain": [
              "[array([[1, 2],\n",
              "        [4, 5]]),\n",
              " array([[ 3, 11],\n",
              "        [ 6, 14]]),\n",
              " array([[12, 13],\n",
              "        [15, 16]])]"
            ]
          },
          "metadata": {},
          "execution_count": 52
        }
      ]
    },
    {
      "cell_type": "code",
      "source": [
        "np.hsplit(d, (1, 3))"
      ],
      "metadata": {
        "colab": {
          "base_uri": "https://localhost:8080/"
        },
        "id": "mt-i4vSHl4Or",
        "outputId": "7ca108b7-4dfc-45e2-a14f-869befd7539a"
      },
      "execution_count": 53,
      "outputs": [
        {
          "output_type": "execute_result",
          "data": {
            "text/plain": [
              "[array([[1],\n",
              "        [4]]),\n",
              " array([[2, 3],\n",
              "        [5, 6]]),\n",
              " array([[11, 12, 13],\n",
              "        [14, 15, 16]])]"
            ]
          },
          "metadata": {},
          "execution_count": 53
        }
      ]
    }
  ]
}